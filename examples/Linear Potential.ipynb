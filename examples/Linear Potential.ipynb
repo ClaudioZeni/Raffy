{
 "cells": [
  {
   "cell_type": "code",
   "execution_count": 1,
   "metadata": {},
   "outputs": [],
   "source": [
    "import numpy as np\n",
    "import raffy.linear_potential as lp\n",
    "import raffy.utils as ut\n",
    "from ase.io import read\n",
    "from matplotlib import pyplot as plt\n",
    "from sklearn.metrics import mean_squared_error\n",
    "\n",
    "def mae_force(x, y):\n",
    "    return np.mean(np.mean(np.sum((x-y)**2, axis = 1)**0.5))\n",
    "\n",
    "%load_ext autoreload\n",
    "%autoreload 2"
   ]
  },
  {
   "cell_type": "markdown",
   "metadata": {},
   "source": [
    "# Transform in FLARE data format"
   ]
  },
  {
   "cell_type": "code",
   "execution_count": 2,
   "metadata": {},
   "outputs": [],
   "source": [
    "_ = ut.xyz_to_traj(\"data/Si/train_trajectory.xyz\", force_name= 'dft_forces', energy_name = 'DFT_PE')\n",
    "_ = ut.xyz_to_traj(\"data/Si/validation_trajectory.xyz\", force_name= 'dft_forces', energy_name = 'DFT_PE')"
   ]
  },
  {
   "cell_type": "markdown",
   "metadata": {},
   "source": [
    "# Load data and prepare dataset"
   ]
  },
  {
   "cell_type": "code",
   "execution_count": 360,
   "metadata": {},
   "outputs": [],
   "source": [
    "ntr = 100\n",
    "nval = 100\n",
    "\n",
    "train_structures = ut.load_structures(\"data/Si/train_trajectory.json\")\n",
    "val_structures = ut.load_structures(\"data/Si/validation_trajectory.json\")\n",
    "\n",
    "rand_ind_tr = np.random.choice(np.arange(len(train_structures)), replace = False, size = min(ntr, len(train_structures)))\n",
    "rand_ind_val = np.random.choice(np.arange(len(val_structures)), replace = False, size = min(nval, len(val_structures)))\n",
    "X = [train_structures[s] for s in rand_ind_tr]\n",
    "X_val = [val_structures[s] for s in rand_ind_val]\n",
    "\n",
    "f_val, e_val = ut.extract_info(X_val)\n",
    "f_val = ut.reshape_forces(f_val)\n",
    "f_val = f_val.reshape((len(f_val)//3, 3))\n",
    "nat_val = np.array([x.nat for x in X_val])\n",
    "\n",
    "species = [x.coded_species.tolist() for x in X]\n",
    "species = list(set([item for sublist in species for item in sublist]))"
   ]
  },
  {
   "cell_type": "markdown",
   "metadata": {},
   "source": [
    "# Initialize Linear Potential"
   ]
  },
  {
   "cell_type": "code",
   "execution_count": 361,
   "metadata": {},
   "outputs": [],
   "source": [
    "ns = 6\n",
    "ls = 6\n",
    "r_cut = 5.2\n",
    "\n",
    "pot = lp.LinearPotential('3', ns, ls, r_cut, species, True, basis = 'bessel')"
   ]
  },
  {
   "cell_type": "markdown",
   "metadata": {},
   "source": [
    "# Train Linear Potential"
   ]
  },
  {
   "cell_type": "code",
   "execution_count": 366,
   "metadata": {},
   "outputs": [],
   "source": [
    "pot.fit(X, ncores = 1, compute_forces=True, alpha = 10)"
   ]
  },
  {
   "cell_type": "markdown",
   "metadata": {},
   "source": [
    "# Validate Linear Potential"
   ]
  },
  {
   "cell_type": "code",
   "execution_count": 367,
   "metadata": {},
   "outputs": [
    {
     "name": "stdout",
     "output_type": "stream",
     "text": [
      "MAE  FORCE VECTOR: 0.1594 eV/A\n",
      "RMSE FORCE COMPONENTS: 0.1251 eV/A\n"
     ]
    },
    {
     "data": {
      "image/png": "[encoded data removed]",
      "text/plain": [
       "<Figure size 432x288 with 1 Axes>"
      ]
     },
     "metadata": {
      "needs_background": "light"
     },
     "output_type": "display_data"
    },
    {
     "name": "stdout",
     "output_type": "stream",
     "text": [
      "RMSE ENERGY: 14.14 meV/atom\n"
     ]
    },
    {
     "data": {
      "image/png": "[encoded data removed]",
      "text/plain": [
       "<Figure size 432x288 with 1 Axes>"
      ]
     },
     "metadata": {
      "needs_background": "light"
     },
     "output_type": "display_data"
    }
   ],
   "source": [
    "e_hat, f_hat = pot.predict(X_val, ncores = 1, compute_forces=True)\n",
    "\n",
    "plt.scatter(f_val, f_hat)\n",
    "plt.plot(f_val, f_val, 'k-')\n",
    "print(\"MAE  FORCE VECTOR: %.4f eV/A\" %(mae_force(f_val, f_hat)))\n",
    "print(\"RMSE FORCE COMPONENTS: %.4f eV/A\" %(mean_squared_error(f_val, f_hat)**0.5))\n",
    "plt.show()\n",
    "\n",
    "plt.scatter(e_val/nat_val, e_hat/nat_val)\n",
    "plt.plot(e_val/nat_val, e_val/nat_val, 'k-')\n",
    "print(\"RMSE ENERGY: %.2f meV/atom\" %(1000*mean_squared_error(e_val/nat_val, e_hat/nat_val)**0.5))\n",
    "plt.show()"
   ]
  },
  {
   "cell_type": "code",
   "execution_count": null,
   "metadata": {},
   "outputs": [],
   "source": []
  }
 ],
 "metadata": {
  "kernelspec": {
   "display_name": "flare_dev",
   "language": "python",
   "name": "flare_dev"
  },
  "language_info": {
   "codemirror_mode": {
    "name": "ipython",
    "version": 3
   },
   "file_extension": ".py",
   "mimetype": "text/x-python",
   "name": "python",
   "nbconvert_exporter": "python",
   "pygments_lexer": "ipython3",
   "version": "3.8.5"
  }
 },
 "nbformat": 4,
 "nbformat_minor": 4
}
