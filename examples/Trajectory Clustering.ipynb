{
 "cells": [
  {
   "cell_type": "code",
   "execution_count": 1,
   "metadata": {},
   "outputs": [
    {
     "name": "stderr",
     "output_type": "stream",
     "text": [
      "/home/claudio/postdoc/venv/raffy/lib/python3.8/site-packages/ray/autoscaler/_private/cli_logger.py:57: FutureWarning: Not all Ray CLI dependencies were found. In Ray 1.4+, the Ray CLI, autoscaler, and dashboard will only be usable via `pip install 'ray[default]'`. Please update your install command.\n",
      "  warnings.warn(\n"
     ]
    }
   ],
   "source": [
    "from raffy import trajectory_cluster as tc"
   ]
  },
  {
   "cell_type": "code",
   "execution_count": 2,
   "metadata": {},
   "outputs": [
    {
     "name": "stdout",
     "output_type": "stream",
     "text": [
      "Finished. The Labeled trajectory file          can be found at data/Au/tmp_clustered_k=4_cut=5.14.xyz\n"
     ]
    }
   ],
   "source": [
    "frames = slice(1, -1, 100)  # Indicate which frames to analyse, to include them all but the first use slice(2, -1, 1)\n",
    "clustering = 'kmeans'  # Type of clustering, either 'kmeans' or 'adp' (latter requires adp python package)\n",
    "k = 4  # Number of clusters to be found\n",
    "ncores = 1  # For multiprocessing, requires the ray package\n",
    "filename = \"data/Au/tmp.dump\" # The trajectory file can be in .xyz or .dump format\n",
    "\n",
    "tc.trajectory_cluster(filename, index = frames, clustering = clustering, k = k, ncores = ncores)"
   ]
  },
  {
   "cell_type": "code",
   "execution_count": null,
   "metadata": {},
   "outputs": [],
   "source": []
  }
 ],
 "metadata": {
  "kernelspec": {
   "display_name": "raffy",
   "language": "python",
   "name": "raffy"
  },
  "language_info": {
   "codemirror_mode": {
    "name": "ipython",
    "version": 3
   },
   "file_extension": ".py",
   "mimetype": "text/x-python",
   "name": "python",
   "nbconvert_exporter": "python",
   "pygments_lexer": "ipython3",
   "version": "3.8.5"
  }
 },
 "nbformat": 4,
 "nbformat_minor": 4
}
